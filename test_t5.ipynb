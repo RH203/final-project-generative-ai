{
 "cells": [
  {
   "cell_type": "code",
   "id": "initial_id",
   "metadata": {
    "collapsed": true,
    "ExecuteTime": {
     "end_time": "2024-12-14T13:54:24.521158Z",
     "start_time": "2024-12-14T13:54:22.181284Z"
    }
   },
   "source": [
    "from nltk.translate.bleu_score import sentence_bleu, SmoothingFunction\n",
    "from rouge_score import rouge_scorer\n",
    "from transformers import AutoTokenizer, AutoModelForSeq2SeqLM"
   ],
   "outputs": [],
   "execution_count": 1
  },
  {
   "metadata": {
    "ExecuteTime": {
     "end_time": "2024-12-14T13:54:24.859632Z",
     "start_time": "2024-12-14T13:54:24.599520Z"
    }
   },
   "cell_type": "code",
   "source": "TOKENIZER = AutoTokenizer.from_pretrained(\"model_final\")",
   "id": "c48410e3f1738ebd",
   "outputs": [
    {
     "name": "stderr",
     "output_type": "stream",
     "text": [
      "You set `add_prefix_space`. The tokenizer needs to be converted from the slow tokenizers\n"
     ]
    }
   ],
   "execution_count": 2
  },
  {
   "metadata": {
    "ExecuteTime": {
     "end_time": "2024-12-14T13:54:25.592153Z",
     "start_time": "2024-12-14T13:54:24.913684Z"
    }
   },
   "cell_type": "code",
   "source": [
    "\n",
    "MODEL = AutoModelForSeq2SeqLM.from_pretrained(\"model_final\")"
   ],
   "id": "20860c38dae51d47",
   "outputs": [],
   "execution_count": 3
  },
  {
   "metadata": {
    "ExecuteTime": {
     "end_time": "2024-12-14T13:54:25.614038Z",
     "start_time": "2024-12-14T13:54:25.608803Z"
    }
   },
   "cell_type": "code",
   "source": [
    "reference = [\n",
    "    \"Hi. For further information consult a urologist online -->\",\n",
    "    \"Hi. I read your query with keen interest and understand your concerns. From the available description, I do not think you have crossed the limit of sanity or you developed schizophrenia. Schizophrenia is altogether very different disorder where people have abnormal perceptions such as hearing voices when no one is present and seeing objects when nothing is there. I do not see any of them with you. In my view, you need to put your worries at rest and do what your mind and heart considers right. It may be abnormal for your mother, but there is no pathology with this. If you feel more assistance is required or my answer to your query is far from setting down the worries, then it is better to see a psychiatrist in person. For further information consult a psychiatrist online -->\",\n",
    "    \"Hello. An anal leak is mostly due to underlying reasons, which need to be thoroughly investigated. Although we can together try reaching out on differential diagnosis. Regards. Revert with more information to a cosmetologist online -->\"\n",
    "]\n",
    "\n",
    "question = [\n",
    "    \"Hello doctor, I am a 22 year old male. I have problem of tight penis skin. Whenever I pull my penis skin back during erection it will be very hard to do. Then, my penis skin gets stuck behind the penis forehead and it is very painful to retract back. I generally use oil for this problem. Please suggest me what to do.\",\n",
    "    \"Hi doctor, I am a 24 year old female. I am a healthy and happy person. I eat well and exercise well. I have a lot of friends, cool hobbies, etc. But, I have a weird habit. Whenever I am alone I talk to myself standing in front of the mirror. I imagine a lot. I think so many things like I am in an interview and I try to venture out the best answers and framing smart answers. When I am practicing on my guitar, I imagine lots of people are watching me and appreciating me for playing so well. I imagine futuristic conversations with people where I ask a question and answer them. When I am alone, I keep imagining some stuff. Also, I pick up some topic and start talking to myself in front of the mirror. I personally feel this habit has improved my communication skills, confidence and vocabulary. I am not shy and I do not have stage fear. When I meet my friends or when I am giving presentations at college, I am the one who used to stay very confident. However, some days back, when I was talking to myself in front of the mirror, my mom questioned me. Until now I did not pay much attention to what I was doing. But, ever since my mom saw me doing that I have become conscious. I have stopped talking to myself for two to three days. But, I do not feel like I have been missing out on anything. I am still friendly and confident. But, I am just wondering if I have crossed the line of sanity. I searched about this on the internet and came across something called as schizophrenia. Is this disorder setting with my habit? Do I have schizophrenia or any other disorder? To be honest, after reading about this schizophrenia I am very scared. It sounds like a very serious disorder to me. Please help.\",\n",
    "    \"Hello doctor, I have a wet feeling inside the anus for the past one year. I did a colonoscopy and sigmoidoscopy, and the doctor said that everything is fine. They said probably the wet feeling is due to sweat. Swab culture and sensitivity report showed up Klebsiella pneumoniae. I took Augmentin 625 and applied ointments. But I feel it is some liquid discharge from the anus skin. Can you suggest some medication?\"\n",
    "]"
   ],
   "id": "269aacd6ebd460f2",
   "outputs": [],
   "execution_count": 4
  },
  {
   "metadata": {
    "ExecuteTime": {
     "end_time": "2024-12-14T13:54:58.745055Z",
     "start_time": "2024-12-14T13:54:25.675892Z"
    }
   },
   "cell_type": "code",
   "source": [
    "# Skor ROUGE untuk evaluasi\n",
    "scorer = rouge_scorer.RougeScorer(['rouge1', 'rouge2', 'rougeL'], use_stemmer=True)\n",
    "smoothing = SmoothingFunction().method4 \n",
    "for question_text, ref in zip(question, reference):\n",
    "    # Tokenisasi input\n",
    "    inputs = TOKENIZER(question_text, return_tensors=\"pt\")\n",
    "    \n",
    "    # Generate output dari model\n",
    "    outputs = MODEL.generate(inputs[\"input_ids\"], max_length=512, num_beams=5, early_stopping=True)\n",
    "    \n",
    "    # Decode output menjadi teks\n",
    "    output_text = TOKENIZER.decode(outputs[0], skip_special_tokens=True)\n",
    "    \n",
    "    print(\"Input:\", question_text)\n",
    "    print(\"Generated Output:\", output_text)\n",
    "\n",
    "    # Menghitung skor ROUGE antara referensi dan output model\n",
    "    rouge_scores = scorer.score(ref, output_text)\n",
    "    print(f\"ROUGE scores for question: {question_text}\")\n",
    "    print(rouge_scores)\n",
    "    \n",
    "\n",
    "    reference_tokens = ref.split()\n",
    "    output_tokens = output_text.split()\n",
    "    bleu_score = sentence_bleu([reference_tokens], output_tokens, smoothing_function=smoothing)\n",
    "    print(f\"BLEU score: {bleu_score}\\n\")"
   ],
   "id": "74af0fec3aa27ad9",
   "outputs": [
    {
     "name": "stdout",
     "output_type": "stream",
     "text": [
      "Input: Hello doctor, I am a 22 year old male. I have problem of tight penis skin. Whenever I pull my penis skin back during erection it will be very hard to do. Then, my penis skin gets stuck behind the penis forehead and it is very painful to retract back. I generally use oil for this problem. Please suggest me what to do.\n",
      "Generated Output: Hello. For further information consult a sexologist online -->\n",
      "ROUGE scores for question: Hello doctor, I am a 22 year old male. I have problem of tight penis skin. Whenever I pull my penis skin back during erection it will be very hard to do. Then, my penis skin gets stuck behind the penis forehead and it is very painful to retract back. I generally use oil for this problem. Please suggest me what to do.\n",
      "{'rouge1': Score(precision=0.75, recall=0.75, fmeasure=0.75), 'rouge2': Score(precision=0.5714285714285714, recall=0.5714285714285714, fmeasure=0.5714285714285714), 'rougeL': Score(precision=0.75, recall=0.75, fmeasure=0.75)}\n",
      "BLEU score: 0.5133450480401704\n",
      "\n",
      "Input: Hi doctor, I am a 24 year old female. I am a healthy and happy person. I eat well and exercise well. I have a lot of friends, cool hobbies, etc. But, I have a weird habit. Whenever I am alone I talk to myself standing in front of the mirror. I imagine a lot. I think so many things like I am in an interview and I try to venture out the best answers and framing smart answers. When I am practicing on my guitar, I imagine lots of people are watching me and appreciating me for playing so well. I imagine futuristic conversations with people where I ask a question and answer them. When I am alone, I keep imagining some stuff. Also, I pick up some topic and start talking to myself in front of the mirror. I personally feel this habit has improved my communication skills, confidence and vocabulary. I am not shy and I do not have stage fear. When I meet my friends or when I am giving presentations at college, I am the one who used to stay very confident. However, some days back, when I was talking to myself in front of the mirror, my mom questioned me. Until now I did not pay much attention to what I was doing. But, ever since my mom saw me doing that I have become conscious. I have stopped talking to myself for two to three days. But, I do not feel like I have been missing out on anything. I am still friendly and confident. But, I am just wondering if I have crossed the line of sanity. I searched about this on the internet and came across something called as schizophrenia. Is this disorder setting with my habit? Do I have schizophrenia or any other disorder? To be honest, after reading about this schizophrenia I am very scared. It sounds like a very serious disorder to me. Please help.\n",
      "Generated Output: Hi. For further information consult a psychiatrist online -->\n",
      "ROUGE scores for question: Hi doctor, I am a 24 year old female. I am a healthy and happy person. I eat well and exercise well. I have a lot of friends, cool hobbies, etc. But, I have a weird habit. Whenever I am alone I talk to myself standing in front of the mirror. I imagine a lot. I think so many things like I am in an interview and I try to venture out the best answers and framing smart answers. When I am practicing on my guitar, I imagine lots of people are watching me and appreciating me for playing so well. I imagine futuristic conversations with people where I ask a question and answer them. When I am alone, I keep imagining some stuff. Also, I pick up some topic and start talking to myself in front of the mirror. I personally feel this habit has improved my communication skills, confidence and vocabulary. I am not shy and I do not have stage fear. When I meet my friends or when I am giving presentations at college, I am the one who used to stay very confident. However, some days back, when I was talking to myself in front of the mirror, my mom questioned me. Until now I did not pay much attention to what I was doing. But, ever since my mom saw me doing that I have become conscious. I have stopped talking to myself for two to three days. But, I do not feel like I have been missing out on anything. I am still friendly and confident. But, I am just wondering if I have crossed the line of sanity. I searched about this on the internet and came across something called as schizophrenia. Is this disorder setting with my habit? Do I have schizophrenia or any other disorder? To be honest, after reading about this schizophrenia I am very scared. It sounds like a very serious disorder to me. Please help.\n",
      "{'rouge1': Score(precision=1.0, recall=0.057971014492753624, fmeasure=0.1095890410958904), 'rouge2': Score(precision=0.8571428571428571, recall=0.043795620437956206, fmeasure=0.08333333333333334), 'rougeL': Score(precision=1.0, recall=0.057971014492753624, fmeasure=0.1095890410958904)}\n",
      "BLEU score: 4.740536425319772e-07\n",
      "\n",
      "Input: Hello doctor, I have a wet feeling inside the anus for the past one year. I did a colonoscopy and sigmoidoscopy, and the doctor said that everything is fine. They said probably the wet feeling is due to sweat. Swab culture and sensitivity report showed up Klebsiella pneumoniae. I took Augmentin 625 and applied ointments. But I feel it is some liquid discharge from the anus skin. Can you suggest some medication?\n",
      "Generated Output: Hello. For further information consult an internal medicine physician online -->\n",
      "ROUGE scores for question: Hello doctor, I have a wet feeling inside the anus for the past one year. I did a colonoscopy and sigmoidoscopy, and the doctor said that everything is fine. They said probably the wet feeling is due to sweat. Swab culture and sensitivity report showed up Klebsiella pneumoniae. I took Augmentin 625 and applied ointments. But I feel it is some liquid discharge from the anus skin. Can you suggest some medication?\n",
      "{'rouge1': Score(precision=0.4, recall=0.11428571428571428, fmeasure=0.17777777777777776), 'rouge2': Score(precision=0.0, recall=0.0, fmeasure=0.0), 'rougeL': Score(precision=0.3, recall=0.08571428571428572, fmeasure=0.13333333333333333)}\n",
      "BLEU score: 0.006360018748070764\n",
      "\n"
     ]
    }
   ],
   "execution_count": 5
  },
  {
   "metadata": {
    "ExecuteTime": {
     "end_time": "2024-12-14T13:54:58.759786Z",
     "start_time": "2024-12-14T13:54:58.757699Z"
    }
   },
   "cell_type": "code",
   "source": [
    "# Fungsi untuk menjawab pertanyaan\n",
    "def get_model_response(question):\n",
    "    # Tokenisasi input\n",
    "    inputs = TOKENIZER(question, return_tensors=\"pt\")\n",
    "    \n",
    "    # Generate output dari model\n",
    "    outputs = MODEL.generate(inputs[\"input_ids\"], max_length=512, num_beams=5, early_stopping=True)\n",
    "    \n",
    "    # Decode output menjadi teks\n",
    "    output_text = TOKENIZER.decode(outputs[0], skip_special_tokens=True)\n",
    "    return output_text\n"
   ],
   "id": "1536150b602ad44d",
   "outputs": [],
   "execution_count": 6
  },
  {
   "metadata": {
    "ExecuteTime": {
     "end_time": "2024-12-14T13:55:03.741263Z",
     "start_time": "2024-12-14T13:54:58.832361Z"
    }
   },
   "cell_type": "code",
   "source": [
    "# Inpoet user\n",
    "user_question = input(\"Masukkan pertanyaan Anda: \")\n",
    "if user_question.lower() == \"exit\":\n",
    "    print(\"Terima kasih telah menggunakan layanan ini!\")\n",
    "else:\n",
    "    response = get_model_response(user_question)\n",
    "    print(\"\\nJawaban dari model:\")\n",
    "    print(response)\n",
    "    print(\"\\n\")"
   ],
   "id": "2b64b265bddd6dfb",
   "outputs": [
    {
     "ename": "KeyboardInterrupt",
     "evalue": "Interrupted by user",
     "output_type": "error",
     "traceback": [
      "\u001B[0;31m---------------------------------------------------------------------------\u001B[0m",
      "\u001B[0;31mKeyboardInterrupt\u001B[0m                         Traceback (most recent call last)",
      "Cell \u001B[0;32mIn[7], line 2\u001B[0m\n\u001B[1;32m      1\u001B[0m \u001B[38;5;66;03m# Inpoet user\u001B[39;00m\n\u001B[0;32m----> 2\u001B[0m user_question \u001B[38;5;241m=\u001B[39m \u001B[38;5;28minput\u001B[39m(\u001B[38;5;124m\"\u001B[39m\u001B[38;5;124mMasukkan pertanyaan Anda: \u001B[39m\u001B[38;5;124m\"\u001B[39m)\n\u001B[1;32m      3\u001B[0m \u001B[38;5;28;01mif\u001B[39;00m user_question\u001B[38;5;241m.\u001B[39mlower() \u001B[38;5;241m==\u001B[39m \u001B[38;5;124m\"\u001B[39m\u001B[38;5;124mexit\u001B[39m\u001B[38;5;124m\"\u001B[39m:\n\u001B[1;32m      4\u001B[0m     \u001B[38;5;28mprint\u001B[39m(\u001B[38;5;124m\"\u001B[39m\u001B[38;5;124mTerima kasih telah menggunakan layanan ini!\u001B[39m\u001B[38;5;124m\"\u001B[39m)\n",
      "File \u001B[0;32m~/anaconda3/envs/final-project-genai/lib/python3.11/site-packages/ipykernel/kernelbase.py:1282\u001B[0m, in \u001B[0;36mKernel.raw_input\u001B[0;34m(self, prompt)\u001B[0m\n\u001B[1;32m   1280\u001B[0m     msg \u001B[38;5;241m=\u001B[39m \u001B[38;5;124m\"\u001B[39m\u001B[38;5;124mraw_input was called, but this frontend does not support input requests.\u001B[39m\u001B[38;5;124m\"\u001B[39m\n\u001B[1;32m   1281\u001B[0m     \u001B[38;5;28;01mraise\u001B[39;00m StdinNotImplementedError(msg)\n\u001B[0;32m-> 1282\u001B[0m \u001B[38;5;28;01mreturn\u001B[39;00m \u001B[38;5;28mself\u001B[39m\u001B[38;5;241m.\u001B[39m_input_request(\n\u001B[1;32m   1283\u001B[0m     \u001B[38;5;28mstr\u001B[39m(prompt),\n\u001B[1;32m   1284\u001B[0m     \u001B[38;5;28mself\u001B[39m\u001B[38;5;241m.\u001B[39m_parent_ident[\u001B[38;5;124m\"\u001B[39m\u001B[38;5;124mshell\u001B[39m\u001B[38;5;124m\"\u001B[39m],\n\u001B[1;32m   1285\u001B[0m     \u001B[38;5;28mself\u001B[39m\u001B[38;5;241m.\u001B[39mget_parent(\u001B[38;5;124m\"\u001B[39m\u001B[38;5;124mshell\u001B[39m\u001B[38;5;124m\"\u001B[39m),\n\u001B[1;32m   1286\u001B[0m     password\u001B[38;5;241m=\u001B[39m\u001B[38;5;28;01mFalse\u001B[39;00m,\n\u001B[1;32m   1287\u001B[0m )\n",
      "File \u001B[0;32m~/anaconda3/envs/final-project-genai/lib/python3.11/site-packages/ipykernel/kernelbase.py:1325\u001B[0m, in \u001B[0;36mKernel._input_request\u001B[0;34m(self, prompt, ident, parent, password)\u001B[0m\n\u001B[1;32m   1322\u001B[0m \u001B[38;5;28;01mexcept\u001B[39;00m \u001B[38;5;167;01mKeyboardInterrupt\u001B[39;00m:\n\u001B[1;32m   1323\u001B[0m     \u001B[38;5;66;03m# re-raise KeyboardInterrupt, to truncate traceback\u001B[39;00m\n\u001B[1;32m   1324\u001B[0m     msg \u001B[38;5;241m=\u001B[39m \u001B[38;5;124m\"\u001B[39m\u001B[38;5;124mInterrupted by user\u001B[39m\u001B[38;5;124m\"\u001B[39m\n\u001B[0;32m-> 1325\u001B[0m     \u001B[38;5;28;01mraise\u001B[39;00m \u001B[38;5;167;01mKeyboardInterrupt\u001B[39;00m(msg) \u001B[38;5;28;01mfrom\u001B[39;00m \u001B[38;5;28;01mNone\u001B[39;00m\n\u001B[1;32m   1326\u001B[0m \u001B[38;5;28;01mexcept\u001B[39;00m \u001B[38;5;167;01mException\u001B[39;00m:\n\u001B[1;32m   1327\u001B[0m     \u001B[38;5;28mself\u001B[39m\u001B[38;5;241m.\u001B[39mlog\u001B[38;5;241m.\u001B[39mwarning(\u001B[38;5;124m\"\u001B[39m\u001B[38;5;124mInvalid Message:\u001B[39m\u001B[38;5;124m\"\u001B[39m, exc_info\u001B[38;5;241m=\u001B[39m\u001B[38;5;28;01mTrue\u001B[39;00m)\n",
      "\u001B[0;31mKeyboardInterrupt\u001B[0m: Interrupted by user"
     ]
    }
   ],
   "execution_count": 7
  },
  {
   "metadata": {},
   "cell_type": "markdown",
   "source": [
    "# What are the symptoms of a common cold?\n",
    "# How can I treat a headache?\n",
    "# What should I do if I experience chest pain during physical activity?\n",
    "# How can I manage my blood pressure if it is consistently high?\n",
    "# What are the potential causes of sudden weight loss without any changes in diet or exercise?\n"
   ],
   "id": "141746cb8fc451d8"
  }
 ],
 "metadata": {
  "kernelspec": {
   "display_name": "Python 3",
   "language": "python",
   "name": "python3"
  },
  "language_info": {
   "codemirror_mode": {
    "name": "ipython",
    "version": 2
   },
   "file_extension": ".py",
   "mimetype": "text/x-python",
   "name": "python",
   "nbconvert_exporter": "python",
   "pygments_lexer": "ipython2",
   "version": "2.7.6"
  }
 },
 "nbformat": 4,
 "nbformat_minor": 5
}
